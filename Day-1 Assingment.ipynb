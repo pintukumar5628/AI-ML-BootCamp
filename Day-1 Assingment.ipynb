{
 "cells": [
  {
   "cell_type": "markdown",
   "metadata": {},
   "source": [
    "Day 1 Assingment"
   ]
  },
  {
   "cell_type": "markdown",
   "metadata": {},
   "source": [
    "1. Convert a string to a zigzag pattern on a given number of rows and then read it row by row.\n",
    "   - Input: s = \"PAYPALISHIRING\", numRows = 3\n"
   ]
  },
  {
   "cell_type": "code",
   "execution_count": 1,
   "metadata": {},
   "outputs": [
    {
     "name": "stdout",
     "output_type": "stream",
     "text": [
      "PAHNAPLSIIGYIR\n"
     ]
    }
   ],
   "source": [
    "def convert_zigzag(s: str, numRows: int) -> str:\n",
    "    if numRows == 1 or numRows >= len(s):\n",
    "        return s\n",
    "    rows = [''] * numRows\n",
    "    current_row = 0\n",
    "    direction = -1\n",
    "    for char in s:\n",
    "        rows[current_row] += char\n",
    "        if current_row == 0 or current_row == numRows - 1:\n",
    "            direction *= -1\n",
    "        current_row += direction\n",
    "\n",
    "    return ''.join(rows)\n",
    "s = \"PAYPALISHIRING\"\n",
    "numRows = 3\n",
    "result = convert_zigzag(s, numRows)\n",
    "print(result)\n"
   ]
  },
  {
   "cell_type": "markdown",
   "metadata": {},
   "source": [
    "2. Implement a method to perform basic string compression using the counts of repeated characters.\n",
    "   - Input: \"aabcccccaaa\"\n"
   ]
  },
  {
   "cell_type": "code",
   "execution_count": 2,
   "metadata": {},
   "outputs": [
    {
     "name": "stdout",
     "output_type": "stream",
     "text": [
      "a2b1c5a3\n"
     ]
    }
   ],
   "source": [
    "def compress_string(s: str) -> str:\n",
    "    compressed = []\n",
    "    count_consecutive = 0\n",
    "\n",
    "    for i in range(len(s)):\n",
    "        count_consecutive += 1\n",
    "\n",
    "        if i + 1 >= len(s) or s[i] != s[i + 1]:\n",
    "            compressed.append(s[i] + str(count_consecutive))\n",
    "            count_consecutive = 0\n",
    "\n",
    "    # Convert list to string\n",
    "    compressed_str = ''.join(compressed)\n",
    "\n",
    "    return compressed_str if len(compressed_str) < len(s) else s\n",
    "\n",
    "s = \"aabcccccaaa\"\n",
    "result = compress_string(s)\n",
    "print(result)\n"
   ]
  },
  {
   "cell_type": "markdown",
   "metadata": {},
   "source": [
    "3. Write a function that generates all possible permutations of a given string.\n",
    "   - Input: \"ABC\"\n"
   ]
  },
  {
   "cell_type": "code",
   "execution_count": 3,
   "metadata": {},
   "outputs": [
    {
     "name": "stdout",
     "output_type": "stream",
     "text": [
      "['ABC', 'ACB', 'BAC', 'BCA', 'CAB', 'CBA']\n"
     ]
    }
   ],
   "source": [
    "from itertools import permutations\n",
    "\n",
    "def generate_permutations(s: str):\n",
    "    perms = [''.join(p) for p in permutations(s)]\n",
    "    return perms\n",
    "\n",
    "s = \"ABC\"\n",
    "result = generate_permutations(s)\n",
    "print(result)\n"
   ]
  },
  {
   "cell_type": "markdown",
   "metadata": {},
   "source": [
    "4. Given an array of strings, group anagrams together.\n",
    "   - Input: [\"eat\", \"tea\", \"tan\", \"ate\", \"nat\", \"bat\"]\n"
   ]
  },
  {
   "cell_type": "code",
   "execution_count": 4,
   "metadata": {},
   "outputs": [
    {
     "name": "stdout",
     "output_type": "stream",
     "text": [
      "[['eat', 'tea', 'ate'], ['tan', 'nat'], ['bat']]\n"
     ]
    }
   ],
   "source": [
    "from collections import defaultdict\n",
    "\n",
    "def group_anagrams(strs):\n",
    "    anagrams = defaultdict(list)\n",
    "\n",
    "    for s in strs:\n",
    "        # Sort the string and use it as a key\n",
    "        key = ''.join(sorted(s))\n",
    "        anagrams[key].append(s)\n",
    "\n",
    "    # Return the values of the dictionary as the grouped anagrams\n",
    "    return list(anagrams.values())\n",
    "\n",
    "# Example usage:\n",
    "strs = [\"eat\", \"tea\", \"tan\", \"ate\", \"nat\", \"bat\"]\n",
    "result = group_anagrams(strs)\n",
    "print(result)\n"
   ]
  },
  {
   "cell_type": "markdown",
   "metadata": {},
   "source": [
    "5. Write a function to multiply two large numbers represented as strings.\n",
    "   - Input: num1 = \"123\", num2 = \"456\"\n"
   ]
  },
  {
   "cell_type": "code",
   "execution_count": 5,
   "metadata": {},
   "outputs": [
    {
     "name": "stdout",
     "output_type": "stream",
     "text": [
      "56088\n"
     ]
    }
   ],
   "source": [
    "def multiply_strings(num1: str, num2: str) -> str:\n",
    "    if num1 == \"0\" or num2 == \"0\":\n",
    "        return \"0\"\n",
    "\n",
    "    # Initialize a result list to store the product of each digit multiplication\n",
    "    result = [0] * (len(num1) + len(num2))\n",
    "\n",
    "    # Reverse both strings to start multiplying from the least significant digit\n",
    "    num1, num2 = num1[::-1], num2[::-1]\n",
    "\n",
    "    # Perform multiplication digit by digit\n",
    "    for i in range(len(num1)):\n",
    "        for j in range(len(num2)):\n",
    "            product = int(num1[i]) * int(num2[j])\n",
    "            result[i + j] += product\n",
    "            # Handle carry over\n",
    "            result[i + j + 1] += result[i + j] // 10\n",
    "            result[i + j] %= 10\n",
    "\n",
    "    # Remove leading zeros from the result and convert it back to a string\n",
    "    while len(result) > 1 and result[-1] == 0:\n",
    "        result.pop()\n",
    "\n",
    "    return ''.join(map(str, result[::-1]))\n",
    "\n",
    "# Example usage:\n",
    "num1 = \"123\"\n",
    "num2 = \"456\"\n",
    "result = multiply_strings(num1, num2)\n",
    "print(result)\n"
   ]
  },
  {
   "cell_type": "markdown",
   "metadata": {},
   "source": [
    "6. Given two strings, check if one is a rotation of the other using only one call to a string method.\n",
    "   - Input: str1 = \"ABCD\", str2 = \"DABC\"\n"
   ]
  },
  {
   "cell_type": "code",
   "execution_count": 8,
   "metadata": {},
   "outputs": [
    {
     "name": "stdout",
     "output_type": "stream",
     "text": [
      "None\n"
     ]
    }
   ],
   "source": [
    "def is_rotation(str1: str, str2: str) -> bool:\n",
    "    if len(str1) != len(str2) or not str1:\n",
    "        return False\n",
    "    \n",
    "        return str2 in (str1 + str1)\n",
    "\n",
    "str1 = \"ABCD\"\n",
    "str2 = \"DABC\"\n",
    "result = is_rotation(str1, str2)\n",
    "print(result)\n"
   ]
  },
  {
   "cell_type": "markdown",
   "metadata": {},
   "source": [
    "7. Given a string containing just the characters (, ), {, }, [, and ], determine if the input string is valid.\n",
    "   - Input: \"()[]{}\"\n"
   ]
  },
  {
   "cell_type": "code",
   "execution_count": 9,
   "metadata": {},
   "outputs": [
    {
     "name": "stdout",
     "output_type": "stream",
     "text": [
      "True\n"
     ]
    }
   ],
   "source": [
    "def is_valid_parentheses(s: str) -> bool:\n",
    "    bracket_map = {')': '(', '}': '{', ']': '['}\n",
    "    stack = []\n",
    "\n",
    "    for char in s:\n",
    "        if char in bracket_map:\n",
    "            top_element = stack.pop() if stack else '#'\n",
    "            if bracket_map[char] != top_element:\n",
    "                return False\n",
    "        else:\n",
    "            stack.append(char)\n",
    "    return not stack\n",
    "\n",
    "s = \"()[]{}\"\n",
    "result = is_valid_parentheses(s)\n",
    "print(result)\n"
   ]
  },
  {
   "cell_type": "markdown",
   "metadata": {},
   "source": [
    "8. Implement the function atoi which converts a string to an integer.\n",
    "   - Input: \"4193 with words\"\n"
   ]
  },
  {
   "cell_type": "code",
   "execution_count": 10,
   "metadata": {},
   "outputs": [
    {
     "name": "stdout",
     "output_type": "stream",
     "text": [
      "4193\n"
     ]
    }
   ],
   "source": [
    "def my_atoi(s: str) -> int:\n",
    "    INT_MAX = 2**31 - 1\n",
    "    INT_MIN = -2**31\n",
    "    \n",
    "    i, n, sign, result = 0, len(s), 1, 0\n",
    "    \n",
    "    while i < n and s[i] == ' ':\n",
    "        i += 1\n",
    "    \n",
    "    if i < n and (s[i] == '+' or s[i] == '-'):\n",
    "        sign = -1 if s[i] == '-' else 1\n",
    "        i += 1\n",
    "    \n",
    "    while i < n and s[i].isdigit():\n",
    "        result = result * 10 + int(s[i])\n",
    "        i += 1\n",
    "        \n",
    "        if result * sign >= INT_MAX:\n",
    "            return INT_MAX\n",
    "        if result * sign <= INT_MIN:\n",
    "            return INT_MIN\n",
    "    \n",
    "    return result * sign\n",
    "\n",
    "s = \"4193 with words\"\n",
    "result = my_atoi(s)\n",
    "print(result)\n"
   ]
  },
  {
   "cell_type": "markdown",
   "metadata": {},
   "source": [
    "9. Write a function that generates the nth term of the \"count and say\" sequence.\n",
    "   - Input: n = 4\n"
   ]
  },
  {
   "cell_type": "code",
   "execution_count": 11,
   "metadata": {},
   "outputs": [
    {
     "name": "stdout",
     "output_type": "stream",
     "text": [
      "1211\n"
     ]
    }
   ],
   "source": [
    "def count_and_say(n: int) -> str:\n",
    "    if n == 1:\n",
    "        return \"1\"\n",
    "\n",
    "    result = \"1\"\n",
    "    \n",
    "    for _ in range(n - 1):\n",
    "        current = result\n",
    "        result = \"\"\n",
    "        i = 0\n",
    "\n",
    "        while i < len(current):\n",
    "            count = 1  \n",
    "\n",
    "            while i + 1 < len(current) and current[i] == current[i + 1]:\n",
    "                i += 1\n",
    "                count += 1\n",
    "\n",
    "            result += str(count) + current[i]\n",
    "            i += 1\n",
    "\n",
    "    return result\n",
    "\n",
    "n = 4\n",
    "result = count_and_say(n)\n",
    "print(result)\n"
   ]
  },
  {
   "cell_type": "markdown",
   "metadata": {},
   "source": [
    "10. Given two strings s and t, return the minimum window in s which will contain all the characters in t.\n",
    "   - Input: s = \"ADOBECODEBANC\", t = \"ABC\"\n"
   ]
  },
  {
   "cell_type": "code",
   "execution_count": 13,
   "metadata": {},
   "outputs": [
    {
     "name": "stdout",
     "output_type": "stream",
     "text": [
      "BANC\n"
     ]
    }
   ],
   "source": [
    "from collections import Counter\n",
    "\n",
    "def min_window(s: str, t: str) -> str:\n",
    "    if not s or not t:\n",
    "        return \"\"\n",
    "    t_count = Counter(t)\n",
    "    window_count = {}\n",
    "    required = len(t_count)\n",
    "    \n",
    "    left, right = 0, 0\n",
    "    \n",
    "    formed = 0\n",
    "    \n",
    "    ans = float(\"inf\"), None, None\n",
    "    \n",
    "    while right < len(s):\n",
    "        char = s[right]\n",
    "        window_count[char] = window_count.get(char, 0) + 1\n",
    "        \n",
    "        if char in t_count and window_count[char] == t_count[char]:\n",
    "            formed += 1\n",
    "        \n",
    "        while left <= right and formed == required:\n",
    "            char = s[left]\n",
    "            \n",
    "            if right - left + 1 < ans[0]:\n",
    "                ans = (right - left + 1, left, right)\n",
    "            \n",
    "            window_count[char] -= 1\n",
    "            if char in t_count and window_count[char] < t_count[char]:\n",
    "                formed -= 1\n",
    "            \n",
    "            left += 1\n",
    "        \n",
    "        right += 1\n",
    "    \n",
    "    return \"\" if ans[0] == float(\"inf\") else s[ans[1]:ans[2]+1]\n",
    "\n",
    "s = \"ADOBECODEBANC\"\n",
    "t = \"ABC\"\n",
    "result = min_window(s, t)\n",
    "print(result)\n"
   ]
  },
  {
   "cell_type": "markdown",
   "metadata": {},
   "source": [
    "11. Given a string, find the length of the longest substring without repeating characters.\n",
    "   - Input: \"abcabcbb\"\n"
   ]
  },
  {
   "cell_type": "code",
   "execution_count": 14,
   "metadata": {},
   "outputs": [
    {
     "name": "stdout",
     "output_type": "stream",
     "text": [
      "3\n"
     ]
    }
   ],
   "source": [
    "def length_of_longest_substring(s: str) -> int:\n",
    "    char_set = set()  \n",
    "    left = 0  \n",
    "    max_length = 0  \n",
    "\n",
    "    for right in range(len(s)):\n",
    "        while s[right] in char_set:\n",
    "            char_set.remove(s[left])\n",
    "            left += 1\n",
    "        \n",
    "        char_set.add(s[right])\n",
    "                max_length = max(max_length, right - left + 1)\n",
    "\n",
    "    return max_length\n",
    "\n",
    "s = \"abcabcbb\"\n",
    "result = length_of_longest_substring(s)\n",
    "print(result)\n"
   ]
  },
  {
   "cell_type": "markdown",
   "metadata": {},
   "source": [
    "12. Given three strings s1, s2, and s3, determine if s3 is formed by the interleaving of s1 and s2.\n",
    "   - Input: s1 = \"aabcc\", s2 = \"dbbca\", s3 = \"aadbbcbcac\"\n"
   ]
  },
  {
   "cell_type": "code",
   "execution_count": 15,
   "metadata": {},
   "outputs": [
    {
     "name": "stdout",
     "output_type": "stream",
     "text": [
      "True\n"
     ]
    }
   ],
   "source": [
    "def is_interleave(s1: str, s2: str, s3: str) -> bool:\n",
    "    if len(s1) + len(s2) != len(s3):\n",
    "        return False\n",
    "    \n",
    "    dp = [[False] * (len(s2) + 1) for _ in range(len(s1) + 1)]\n",
    "    \n",
    "    # Base case\n",
    "    dp[0][0] = True\n",
    "\n",
    "    # Fill the dp table\n",
    "    for i in range(len(s1) + 1):\n",
    "        for j in range(len(s2) + 1):\n",
    "            if i > 0 and s1[i - 1] == s3[i + j - 1]:\n",
    "                dp[i][j] = dp[i][j] or dp[i - 1][j]\n",
    "            \n",
    "            if j > 0 and s2[j - 1] == s3[i + j - 1]:\n",
    "                dp[i][j] = dp[i][j] or dp[i][j - 1]\n",
    "\n",
    "    return dp[len(s1)][len(s2)]\n",
    "s1 = \"aabcc\"\n",
    "s2 = \"dbbca\"\n",
    "s3 = \"aadbbcbcac\"\n",
    "result = is_interleave(s1, s2, s3)\n",
    "print(result)\n"
   ]
  },
  {
   "cell_type": "markdown",
   "metadata": {},
   "source": [
    "13. Write a function to convert a Roman numeral to an integer.\n",
    "   - Input: \"MCMXCIV\"\n"
   ]
  },
  {
   "cell_type": "code",
   "execution_count": 17,
   "metadata": {},
   "outputs": [
    {
     "name": "stdout",
     "output_type": "stream",
     "text": [
      "1994\n"
     ]
    }
   ],
   "source": [
    "def roman_to_integer(s: str) -> int:\n",
    "    roman_map = {\n",
    "        'I': 1,\n",
    "        'V': 5,\n",
    "        'X': 10,\n",
    "        'L': 50,\n",
    "        'C': 100,\n",
    "        'D': 500,\n",
    "        'M': 1000\n",
    "    }\n",
    "    \n",
    "    total = 0  \n",
    "    prev_value = 0  \n",
    "    for char in reversed(s):\n",
    "        current_value = roman_map[char]\n",
    "        \n",
    "        if current_value < prev_value:\n",
    "            total -= current_value\n",
    "        else:\n",
    "            total += current_value\n",
    "        \n",
    "        prev_value = current_value\n",
    "\n",
    "    return total\n",
    "\n",
    "roman_numeral = \"MCMXCIV\"\n",
    "result = roman_to_integer(roman_numeral)\n",
    "print(result)\n"
   ]
  },
  {
   "cell_type": "markdown",
   "metadata": {},
   "source": [
    "14. Find the longest common substring between two strings.\n",
    "   - Input: str1 = \"ABABC\", str2 = \"BABCA\"\n"
   ]
  },
  {
   "cell_type": "code",
   "execution_count": 18,
   "metadata": {},
   "outputs": [
    {
     "name": "stdout",
     "output_type": "stream",
     "text": [
      "BABC\n"
     ]
    }
   ],
   "source": [
    "def longest_common_substring(str1: str, str2: str) -> str:\n",
    "    m, n = len(str1), len(str2)\n",
    "    \n",
    "    dp = [[0] * (n + 1) for _ in range(m + 1)]\n",
    "    \n",
    "    max_length = 0  \n",
    "    ending_index = 0  \n",
    "\n",
    "    # Build the dp array\n",
    "    for i in range(1, m + 1):\n",
    "        for j in range(1, n + 1):\n",
    "            if str1[i - 1] == str2[j - 1]:\n",
    "                dp[i][j] = dp[i - 1][j - 1] + 1\n",
    "                if dp[i][j] > max_length:\n",
    "                    max_length = dp[i][j]\n",
    "                    ending_index = i  \n",
    "            else:\n",
    "                dp[i][j] = 0  \n",
    "    longest_substring = str1[ending_index - max_length:ending_index]\n",
    "\n",
    "    return longest_substring\n",
    "\n",
    "str1 = \"ABABC\"\n",
    "str2 = \"BABCA\"\n",
    "result = longest_common_substring(str1, str2)\n",
    "print(result)\n"
   ]
  },
  {
   "cell_type": "markdown",
   "metadata": {},
   "source": [
    "15. Given a string s and a dictionary of words, check if s can be segmented into a space-separated sequence of one or more dictionary words.\n",
    "   - Input: s = \"leetcode\", wordDict = [\"leet\", \"code\"]\n"
   ]
  },
  {
   "cell_type": "code",
   "execution_count": 20,
   "metadata": {},
   "outputs": [
    {
     "name": "stdout",
     "output_type": "stream",
     "text": [
      "True\n"
     ]
    }
   ],
   "source": [
    "def word_break(s: str, wordDict: list) -> bool:\n",
    "    word_set = set(wordDict)\n",
    "    \n",
    "    n = len(s)\n",
    "    \n",
    "    dp = [False] * (n + 1)\n",
    "    dp[0] = True  \n",
    "    \n",
    "    for i in range(1, n + 1):\n",
    "        for j in range(i):\n",
    "            if dp[j] and s[j:i] in word_set:\n",
    "                dp[i] = True\n",
    "                break  \n",
    "\n",
    "    return dp[n]  \n",
    "\n",
    "s = \"leetcode\"\n",
    "wordDict = [\"leet\", \"code\"]\n",
    "result = word_break(s, wordDict)\n",
    "print(result)\n"
   ]
  },
  {
   "cell_type": "markdown",
   "metadata": {},
   "source": [
    "16. Remove the minimum number of invalid parentheses to make the input string valid. Return all possible results.\n",
    "   - Input: \"()())()\"\n"
   ]
  },
  {
   "cell_type": "code",
   "execution_count": 22,
   "metadata": {},
   "outputs": [
    {
     "name": "stdout",
     "output_type": "stream",
     "text": [
      "['(())()', '()()()']\n"
     ]
    }
   ],
   "source": [
    "def is_valid(s: str) -> bool:\n",
    "    count = 0\n",
    "    for char in s:\n",
    "        if char == '(':\n",
    "            count += 1\n",
    "        elif char == ')':\n",
    "            count -= 1\n",
    "        if count < 0: \n",
    "            return False\n",
    "    return count == 0  \n",
    "\n",
    "def remove_invalid_parentheses(s: str):\n",
    "    result = []\n",
    "    queue = {s}\n",
    "    found_valid = False\n",
    "\n",
    "    while queue:\n",
    "        current_level = set()\n",
    "        for string in queue:\n",
    "            if is_valid(string):\n",
    "                result.append(string)\n",
    "                found_valid = True\n",
    "            current_level.update({string[:i] + string[i + 1:] for i in range(len(string))})\n",
    "\n",
    "        if found_valid:\n",
    "            break\n",
    "        queue = current_level\n",
    "\n",
    "    return result\n",
    "\n",
    "s = \"()())()\"\n",
    "results = remove_invalid_parentheses(s)\n",
    "print(results)\n"
   ]
  },
  {
   "cell_type": "code",
   "execution_count": null,
   "metadata": {},
   "outputs": [],
   "source": []
  }
 ],
 "metadata": {
  "kernelspec": {
   "display_name": "Python 3",
   "language": "python",
   "name": "python3"
  },
  "language_info": {
   "codemirror_mode": {
    "name": "ipython",
    "version": 3
   },
   "file_extension": ".py",
   "mimetype": "text/x-python",
   "name": "python",
   "nbconvert_exporter": "python",
   "pygments_lexer": "ipython3",
   "version": "3.10.6"
  }
 },
 "nbformat": 4,
 "nbformat_minor": 2
}
